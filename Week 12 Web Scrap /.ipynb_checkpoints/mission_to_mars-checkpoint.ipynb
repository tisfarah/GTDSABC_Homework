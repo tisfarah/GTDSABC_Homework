{
 "cells": [
  {
   "cell_type": "markdown",
   "metadata": {},
   "source": [
    "# Mission To Mars"
   ]
  },
  {
   "cell_type": "markdown",
   "metadata": {},
   "source": [
    "#### Purpose: build a web application that scrapes various websites for data related to the Mission to Mars and displays the information in a single HTML page"
   ]
  },
  {
   "cell_type": "markdown",
   "metadata": {},
   "source": [
    "## Step 1: Web Scrape"
   ]
  },
  {
   "cell_type": "code",
   "execution_count": 10,
   "metadata": {},
   "outputs": [],
   "source": [
    "# Import dependencies \n",
    "import os\n",
    "from bs4 import BeautifulSoup as bs\n",
    "import requests\n",
    "from splinter import Browser\n",
    "import pandas as pd \n",
    "import time "
   ]
  },
  {
   "cell_type": "markdown",
   "metadata": {},
   "source": [
    "#### Set up initialize browser function that will be used multiple times"
   ]
  },
  {
   "cell_type": "code",
   "execution_count": null,
   "metadata": {},
   "outputs": [],
   "source": [
    "\n",
    "def init_browser():\n",
    "    # @NOTE: Replace the path with your actual path to the chromedriver\n",
    "    executable_path = {\"executable_path\": \"/usr/local/bin/chromedriver\"}\n",
    "    return Browser(\"chrome\", **executable_path, headless=False)\n"
   ]
  },
  {
   "cell_type": "markdown",
   "metadata": {},
   "source": [
    "### Gather NASA Mars News"
   ]
  },
  {
   "cell_type": "code",
   "execution_count": 34,
   "metadata": {},
   "outputs": [],
   "source": [
    "def scrape_info_mars():\n",
    "    browser = init_browser()\n",
    "\n",
    "    # Visit website \n",
    "    url = 'https://mars.nasa.gov/news/'\n",
    "    browser.visit(url)\n",
    "\n",
    "    time.sleep(1)\n",
    "\n",
    "    # Scrape page into Soup\n",
    "    html = browser.html\n",
    "    soup = bs(html, \"html.parser\")\n",
    "\n",
    "    # Get the list section that has the articles and grab the first instance \n",
    "    article_section = soup.select_one(\"ul.item_list li.slide\")\n",
    "\n",
    "\n",
    "    # Get the latest article title in text format\n",
    "    mars_title = article_section.find(\"div\", class_=\"content_title\").get_text()\n",
    "\n",
    "    # Get the latest article body in text format \n",
    "    mars_body = article_section.find(\"div\", class_=\"article_teaser_body\").get_text()\n",
    "\n",
    "    # Store data in a dictionary\n",
    "    latest_mars = {\n",
    "        \"mars_title\": mars_title,\n",
    "        \"mars_body\": mars_body,\n",
    "    }\n",
    "\n",
    "    # Close the browser after scraping\n",
    "    browser.quit()\n",
    "\n",
    "    # Return results\n",
    "    return mars_body, mars_title"
   ]
  },
  {
   "cell_type": "markdown",
   "metadata": {},
   "source": [
    "### Gather JPL Mars Space Images - Featured Image"
   ]
  },
  {
   "cell_type": "code",
   "execution_count": null,
   "metadata": {},
   "outputs": [],
   "source": [
    "def featured_image_mars():\n",
    "    browser = init_browser()\n",
    "    url = \"https://www.jpl.nasa.gov/spaceimages/?search=&category=Mars\"\n",
    "    browser.visit(url)\n",
    "\n",
    "    # Click the full image button\n",
    "    full_image = browser.find_by_id(\"full_image\")\n",
    "    full_image.click()\n",
    "\n",
    "    # Click the more info button\n",
    "    browser.is_element_present_by_text(\"more info\")\n",
    "    more_info = browser.find_link_by_partial_text(\"more info\")\n",
    "    more_info.click()\n",
    "\n",
    "    # Scrape page into Soup\n",
    "    html = browser.html\n",
    "    soup = bs(html, \"html.parser\")\n",
    "    \n",
    "    #image is nested in class under figure, a link, and img tag\n",
    "    image = soup.select_one(\"figure.lede a img\")\n",
    "\n",
    "    image_url = image.get(\"src\")\n",
    "\n",
    "    # Use the base url to create an absolute url\n",
    "    featured_image_url = f\"https://www.jpl.nasa.gov{image_url}\"\n",
    "\n",
    "    # Close the browser after scraping\n",
    "    browser.quit()\n",
    "\n",
    "    # Return results\n",
    "    return featured_image_url \n"
   ]
  },
  {
   "cell_type": "markdown",
   "metadata": {},
   "source": [
    "### Gather Mars Weather"
   ]
  },
  {
   "cell_type": "code",
   "execution_count": null,
   "metadata": {},
   "outputs": [],
   "source": [
    "def weather():\n",
    "    browser = init_browser()\n",
    "    url = \"https://twitter.com/marswxreport?lang=en\"\n",
    "    browser.visit(url)\n",
    "    \n",
    "    response = requests.get(url)\n",
    "    soup = bs(response.text, 'html.parser')\n",
    "\n",
    "    tweet_weather = soup.find('p',{\"class\": \"TweetTextSize TweetTextSize--normal js-tweet-text tweet-text\"}).get_text()\n",
    "    \n",
    "    # Close the browser after scraping\n",
    "    browser.quit()\n",
    "\n",
    "    # Return results\n",
    "    return tweet_weather "
   ]
  },
  {
   "cell_type": "markdown",
   "metadata": {},
   "source": [
    "### Gather Mars Facts"
   ]
  },
  {
   "cell_type": "code",
   "execution_count": null,
   "metadata": {},
   "outputs": [],
   "source": [
    "def facts():\n",
    "    browser = init_browser()\n",
    "    url = 'https://space-facts.com/mars/'\n",
    "    data_table = pd.read_html(url)\n",
    "    data_table = data_table[0]\n",
    "    data_table.columns = ['Description', 'Value']\n",
    "    \n",
    "    html_table = data_table.to_html()\n",
    "    \n",
    "    # Stop webdriver and return data\n",
    "    browser.quit()\n",
    "    return html_table\n"
   ]
  },
  {
   "cell_type": "markdown",
   "metadata": {},
   "source": [
    "### Combine all the function outputs into one function call that will return all the scraped data"
   ]
  },
  {
   "cell_type": "code",
   "execution_count": null,
   "metadata": {},
   "outputs": [],
   "source": [
    "def all_data():\n",
    "    \n",
    "    browser = init_browser()\n",
    "    mars_body, mars_title = scrape_info_mars()\n",
    "    \n",
    "    all_data = {\n",
    "        \"mars_title\": mars_title,\n",
    "        \"mars_body\": mars_body,\n",
    "        \"featured_image_url\": featured_image_mars(),\n",
    "        \"facts_table\": facts(),\n",
    "    }\n",
    "\n",
    "    # Close the browser after scraping\n",
    "    browser.quit()\n",
    "    \n",
    "    # Return results\n",
    "    return all_data"
   ]
  }
 ],
 "metadata": {
  "kernelspec": {
   "display_name": "Python 3",
   "language": "python",
   "name": "python3"
  },
  "language_info": {
   "codemirror_mode": {
    "name": "ipython",
    "version": 3
   },
   "file_extension": ".py",
   "mimetype": "text/x-python",
   "name": "python",
   "nbconvert_exporter": "python",
   "pygments_lexer": "ipython3",
   "version": "3.7.2"
  }
 },
 "nbformat": 4,
 "nbformat_minor": 2
}
