{
 "cells": [
  {
   "cell_type": "markdown",
   "metadata": {},
   "source": [
    "## Instructions"
   ]
  },
  {
   "cell_type": "markdown",
   "metadata": {},
   "source": [
    "* Your task is to create a Python script that analyzes the records to calculate each of the following:\n",
    "\n",
    "  * The total number of months included in the dataset\n",
    "  * The net total amount of \"Profit/Losses\" over the entire period\n",
    "  * The average of the changes in \"Profit/Losses\" over the entire period\n",
    "  * The greatest increase in profits (date and amount) over the entire period\n",
    "  * The greatest decrease in losses (date and amount) over the entire period\n",
    "  * Print the analysis to the terminal and export a text file with the results\n",
    "\n",
    "* As an example, your analysis should look similar to the one below:\n",
    "\n",
    "  Financial Analysis <br>\n",
    "  ----------------------------  <br>\n",
    "  Total Months: 86 <br>\n",
    "  \n",
    "  Total: $38382578 \n",
    "  \n",
    "  Average  Change: $-2315.12 \n",
    "  \n",
    "  Greatest Increase in Profits: Feb-2012 ($1926159) \n",
    "  \n",
    "  Greatest Decrease in Profits: Sep-2013 ($-2196167) \n",
    "   \n",
    "  \n"
   ]
  },
  {
   "cell_type": "markdown",
   "metadata": {},
   "source": [
    "## Read in the budget csv file and explore the dataset "
   ]
  },
  {
   "cell_type": "code",
   "execution_count": 7,
   "metadata": {},
   "outputs": [
    {
     "name": "stdout",
     "output_type": "stream",
     "text": [
      "['Jan-2010', 'Feb-2010', 'Mar-2010', 'Apr-2010', 'May-2010', 'Jun-2010', 'Jul-2010', 'Aug-2010', 'Sep-2010', 'Oct-2010', 'Nov-2010', 'Dec-2010', 'Jan-2011', 'Feb-2011', 'Mar-2011', 'Apr-2011', 'May-2011', 'Jun-2011', 'Jul-2011', 'Aug-2011', 'Sep-2011', 'Oct-2011', 'Nov-2011', 'Dec-2011', 'Jan-2012', 'Feb-2012', 'Mar-2012', 'Apr-2012', 'May-2012', 'Jun-2012', 'Jul-2012', 'Aug-2012', 'Sep-2012', 'Oct-2012', 'Nov-2012', 'Dec-2012', 'Jan-2013', 'Feb-2013', 'Mar-2013', 'Apr-2013', 'May-2013', 'Jun-2013', 'Jul-2013', 'Aug-2013', 'Sep-2013', 'Oct-2013', 'Nov-2013', 'Dec-2013', 'Jan-2014', 'Feb-2014', 'Mar-2014', 'Apr-2014', 'May-2014', 'Jun-2014', 'Jul-2014', 'Aug-2014', 'Sep-2014', 'Oct-2014', 'Nov-2014', 'Dec-2014', 'Jan-2015', 'Feb-2015', 'Mar-2015', 'Apr-2015', 'May-2015', 'Jun-2015', 'Jul-2015', 'Aug-2015', 'Sep-2015', 'Oct-2015', 'Nov-2015', 'Dec-2015', 'Jan-2016', 'Feb-2016', 'Mar-2016', 'Apr-2016', 'May-2016', 'Jun-2016', 'Jul-2016', 'Aug-2016', 'Sep-2016', 'Oct-2016', 'Nov-2016', 'Dec-2016', 'Jan-2017', 'Feb-2017']\n",
      "['867884', '984655', '322013', '-69417', '310503', '522857', '1033096', '604885', '-216386', '477532', '893810', '-80353', '779806', '-335203', '697845', '793163', '485070', '584122', '62729', '668179', '899906', '834719', '132003', '309978', '-755566', '1170593', '252788', '1151518', '817256', '570757', '506702', '-1022534', '475062', '779976', '144175', '542494', '359333', '321469', '67780', '471435', '565603', '872480', '789480', '999942', '-1196225', '268997', '-687986', '1150461', '682458', '617856', '824098', '581943', '132864', '448062', '689161', '800701', '1166643', '947333', '578668', '988505', '1139715', '1029471', '687533', '-524626', '158620', '87795', '423389', '840723', '568529', '332067', '989499', '778237', '650000', '-1100387', '-174946', '757143', '445709', '712961', '-1163797', '569899', '768450', '102685', '795914', '60988', '138230', '671099']\n"
     ]
    },
    {
     "data": {
      "text/plain": [
       "'999942'"
      ]
     },
     "execution_count": 7,
     "metadata": {},
     "output_type": "execute_result"
    }
   ],
   "source": [
    "# importing the modules necessary to read in files\n",
    "import os\n",
    "import csv \n",
    "\n",
    "budget_file = os.path.join('Resources', 'budget_data.csv')\n",
    "\n",
    "# initializing empty list to put in the separate list based on column headers\n",
    "months = []\n",
    "profit_loss = []\n",
    "\n",
    "#import the file path as a csvfile and delimit by commas \n",
    "with open(budget_file, newline = '') as csvfile:\n",
    "    csvreader = csv.reader(csvfile, delimiter = \",\")\n",
    "\n",
    "    for row in csvreader:\n",
    "        months.append(row[0])\n",
    "        profit_loss.append(row[1])\n",
    "    # remove the headers from both list, it was causing me errors when I tried to determine the Net P/L\n",
    "    months = months[1:]\n",
    "    profit_loss = profit_loss[1:]\n",
    "print(months)\n",
    "print(profit_loss)\n",
    "max(profit_loss)"
   ]
  },
  {
   "cell_type": "markdown",
   "metadata": {},
   "source": [
    "## Task 1: Find the total number of months"
   ]
  },
  {
   "cell_type": "code",
   "execution_count": 3,
   "metadata": {},
   "outputs": [
    {
     "name": "stdout",
     "output_type": "stream",
     "text": [
      "86\n"
     ]
    },
    {
     "data": {
      "text/plain": [
       "int"
      ]
     },
     "execution_count": 3,
     "metadata": {},
     "output_type": "execute_result"
    }
   ],
   "source": [
    "# calculating the total number of months by using the length of the month list minus the header row\n",
    "month_count = len(months)\n",
    "print(month_count)\n",
    "type(month_count) # checking to see that month_count is a number "
   ]
  },
  {
   "cell_type": "markdown",
   "metadata": {},
   "source": [
    "## Task 2: Calculate the net total amount of profits/losses over the entire period"
   ]
  },
  {
   "cell_type": "code",
   "execution_count": 6,
   "metadata": {},
   "outputs": [
    {
     "name": "stdout",
     "output_type": "stream",
     "text": [
      "1170593\n"
     ]
    }
   ],
   "source": [
    "# since the original profit loss list contains numerical values as strings versus float\n",
    "#created for loop to convert the values to floats and sum to figure the Net Total of P/L over the entire period\n",
    "profit_loss_float = []\n",
    "\n",
    "for item in profit_loss:\n",
    "    y = int(item)\n",
    "    profit_loss_float.append(y)\n",
    "    \n",
    "NetPL = sum(profit_loss_float)\n"
   ]
  },
  {
   "cell_type": "markdown",
   "metadata": {},
   "source": [
    "## Task 3: Calculate the average of the changes in \"Profit/Losses\" over the entire period"
   ]
  },
  {
   "cell_type": "code",
   "execution_count": 40,
   "metadata": {},
   "outputs": [
    {
     "name": "stdout",
     "output_type": "stream",
     "text": [
      "[116771, -662642, -391430, 379920, 212354, 510239, -428211, -821271, 693918, 416278, -974163, 860159, -1115009, 1033048, 95318, -308093, 99052, -521393, 605450, 231727, -65187, -702716, 177975, -1065544, 1926159, -917805, 898730, -334262, -246499, -64055, -1529236, 1497596, 304914, -635801, 398319, -183161, -37864, -253689, 403655, 94168, 306877, -83000, 210462, -2196167, 1465222, -956983, 1838447, -468003, -64602, 206242, -242155, -449079, 315198, 241099, 111540, 365942, -219310, -368665, 409837, 151210, -110244, -341938, -1212159, 683246, -70825, 335594, 417334, -272194, -236462, 657432, -211262, -128237, -1750387, 925441, 932089, -311434, 267252, -1876758, 1733696, 198551, -665765, 693229, -734926, 77242, 532869]\n"
     ]
    }
   ],
   "source": [
    "MonthChangeList = []\n",
    "# finding the change between each set of 2 periods and putting that into a new list \n",
    "\n",
    "# create a list that has pairs of the periods (i.e, (0,1), (1,2))\n",
    "MonthPairs = zip(profit_loss_float[1:], profit_loss_float)\n",
    "\n",
    "# loop through the pairs and find the difference for each pair (increase/decrease) and put to new list \n",
    "for a, b in MonthPairs:\n",
    "    MonthChangeList.append(a-b)\n",
    "\n",
    "#Average of the changes in profit/losses over the period is the average of the newly created list \"MonthChangeList\"\n",
    "AvgChange = sum(MonthChangeList)/len(MonthChangeList)\n",
    "\n",
    "#Greatest increase would be the MAX number in the MonthChangeList\n",
    "MaxChange = max(MonthChangeList)\n",
    "\n",
    "# Greatest decrease would be the MIN number in the MonthChangeLst\n",
    "MinChange = min(MonthChangeList)\n",
    "\n",
    "# below is a test on the list comprehension \n",
    "#MonthChangeList = [a -b for a, b in zip(profit_loss_float[1:], profit_loss_float)]\n",
    "\n",
    "\n",
    "print(MonthChangeList)\n",
    "\n"
   ]
  },
  {
   "cell_type": "markdown",
   "metadata": {},
   "source": [
    "## Task 4 & 5: Calculate the greatest increase in profits / decrease in losses (date and amount) over the entire period"
   ]
  },
  {
   "cell_type": "code",
   "execution_count": 50,
   "metadata": {},
   "outputs": [
    {
     "name": "stdout",
     "output_type": "stream",
     "text": [
      "Jan-2012\n",
      "Feb-2012\n",
      "-755566\n",
      "1170593\n",
      "1926159.0\n",
      "Sep-2013\n"
     ]
    }
   ],
   "source": [
    "#Greatest increase would be the MAX number in the MonthChangeList\n",
    "MaxChange = max(MonthChangeList)\n",
    "\n",
    "#find the index of the Max value in the Months list\n",
    "Max1 = MonthChangeList.index(1926159) \n",
    "# since the calculations for MonthChangelist were for pairs, find the hypothetical second index for the second item in the pair \n",
    "Max2 = Max1 + 1 \n",
    "\n",
    "#find the months that correspond to the Max change value, the month that is assigned to the period of the second index \"current\" vs. \"prior\"\n",
    "print(months[Max1])\n",
    "print(months[Max2])\n",
    "\n",
    "MaxPeriod = months[Max2]\n",
    "\n",
    "# below is a check to see if I used the same indices in the profit/loss list that I used in the month list, will the current-prior calculation equate to the MaxChange number\n",
    "print(profit_loss[Max1])\n",
    "print(profit_loss[Max2])\n",
    "print(float(profit_loss[Max2])-float(profit_loss[Max1]))\n",
    "\n",
    "# repeating the steps above for the Min number in the MonthChangeLost \n",
    "MinChange = min(MonthChangeList)\n",
    "Min1 = MonthChangeList.index(-2196167)\n",
    "Min2 = Min1 + 1\n",
    "MinPeriod = months[Min2]\n"
   ]
  },
  {
   "cell_type": "markdown",
   "metadata": {},
   "source": [
    "## Task 6: Print the Analysis Summary to the terminal and export to a text file "
   ]
  },
  {
   "cell_type": "code",
   "execution_count": 72,
   "metadata": {},
   "outputs": [
    {
     "name": "stdout",
     "output_type": "stream",
     "text": [
      "Financial Analysis \n",
      "--------------------\n",
      "Total Months: 86 \n",
      "Total: $38382578 \n",
      "Average Change: $-2315.12 \n",
      "Greatest Increase in Profits: Feb-2012 ($1926159) \n",
      "Greatest Decrease in Profits: Sep-2013 ($-2196167)\n"
     ]
    }
   ],
   "source": [
    "print_stmt = (f\"Financial Analysis \\n--------------------\\nTotal Months: {month_count} \\nTotal: ${NetPL} \\nAverage Change: ${round(AvgChange,2)} \\nGreatest Increase in Profits: {MaxPeriod} (${MaxChange}) \\nGreatest Decrease in Profits: {MinPeriod} (${MinChange})\")\n",
    "print(print_stmt)\n",
    "# Specify the file to write to\n",
    "output_path = os.path.join(\"PyBankSummary_Farah.csv\")\n",
    "\n",
    "# Open the file using \"write\" mode. Specify the variable to hold the contents\n",
    "with open(output_path, 'w', newline='') as csvfile: # specify \"w\" for write, default is read\n",
    "\n",
    "    # Initialize csv.writer\n",
    "    csvwriter = csv.writer(csvfile, delimiter=',')\n",
    "    for line in print_stmt:\n",
    "        csvfile.write(line)\n"
   ]
  },
  {
   "cell_type": "code",
   "execution_count": null,
   "metadata": {},
   "outputs": [],
   "source": [
    "# combine months and profit_loss_float lists via zip\n",
    "combo = zip(months, profit_loss_float)\n",
    "\n",
    "#convert to tuple\n",
    "comboTup = tuple(combo)\n",
    "# comboTup[1][0] is the second row, first element (i.e month)\n",
    "\n"
   ]
  },
  {
   "cell_type": "code",
   "execution_count": null,
   "metadata": {},
   "outputs": [],
   "source": [
    "def calc_period_returns(values, period):\n",
    "    output = []\n",
    "    startpos, endpos = (period, len(values)-1)\n",
    "\n",
    "    while True:\n",
    "        current = values[startpos]\n",
    "        previous = values[startpos-period]\n",
    "        ret = (current-previous)\n",
    "        output.append(ret)\n",
    "        startpos += period\n",
    "        if startpos > endpos:\n",
    "            break\n",
    "    avg = sum(output) / len(output)\n",
    "    maxs = max(output)\n",
    "    mins = min(output)\n",
    "    print(maxs)\n",
    "    print(mins)\n",
    "    print(round(avg,2))\n",
    "    return output\n",
    "\n",
    "\n",
    "\n",
    "calc_period_returns(profit_loss_float,1)\n",
    "avg = sum(output)/len(output)\n",
    "\n",
    "\n",
    "\n",
    "#for \n",
    "   # for value in profit_loss_float:\n",
    "  #      first = \n",
    "  #      second = \n",
    "        \n",
    "        # MonthChange will be the new list that has the profit/loss between 2 months \n",
    "    #    MonthChange = profit_loss_float[first]-profit_loss_float[last]\n",
    "     #   MonthChangeList.append(MonthChange)\n",
    "    \n",
    "#print(MonthChangeList)\n",
    "#AvgChange = sum(MonthChangeList)/len(MonthChangeList)\n",
    "#print(AvgChange)\n"
   ]
  }
 ],
 "metadata": {
  "kernelspec": {
   "display_name": "Python 3",
   "language": "python",
   "name": "python3"
  },
  "language_info": {
   "codemirror_mode": {
    "name": "ipython",
    "version": 3
   },
   "file_extension": ".py",
   "mimetype": "text/x-python",
   "name": "python",
   "nbconvert_exporter": "python",
   "pygments_lexer": "ipython3",
   "version": "3.7.2"
  }
 },
 "nbformat": 4,
 "nbformat_minor": 2
}
