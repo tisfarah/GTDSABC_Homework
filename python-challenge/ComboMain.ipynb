{
 "cells": [
  {
   "cell_type": "markdown",
   "metadata": {},
   "source": [
    "PyPoll -> mapping (candidate and count of voter IDs) \n",
    "\n",
    "try not to hard code; putting it in the function \n",
    "dictreader allows you to read the header name vs. the index \n",
    "initialize empty dictionary and for loops to populate the dictionary \n",
    "{\"Candidate\": Count of Votes} \n",
    "\n",
    "default of dictionary sort is by key (alphabetically), need to sort by values \n",
    "\n",
    "How to show the winner: dictionary sort by .items (reverse = True)\n",
    "\n",
    "3 functions \n",
    "    init (pulling in the data, pull in the files, printing)\n",
    "    perform analysis \n",
    "    output (print to the terminal and print to csv file\n"
   ]
  },
  {
   "cell_type": "code",
   "execution_count": null,
   "metadata": {},
   "outputs": [],
   "source": []
  }
 ],
 "metadata": {
  "kernelspec": {
   "display_name": "Python 3",
   "language": "python",
   "name": "python3"
  },
  "language_info": {
   "codemirror_mode": {
    "name": "ipython",
    "version": 3
   },
   "file_extension": ".py",
   "mimetype": "text/x-python",
   "name": "python",
   "nbconvert_exporter": "python",
   "pygments_lexer": "ipython3",
   "version": "3.7.2"
  }
 },
 "nbformat": 4,
 "nbformat_minor": 2
}
