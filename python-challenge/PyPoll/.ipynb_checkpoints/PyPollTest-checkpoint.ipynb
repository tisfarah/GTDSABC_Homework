{
 "cells": [
  {
   "cell_type": "markdown",
   "metadata": {},
   "source": [
    "## Instructions\n",
    "\n",
    "Your task is to create a Python script that analyzes the votes and calculates each of the following:\n",
    "\n",
    "  * The total number of votes cast\n",
    "\n",
    "  * A complete list of candidates who received votes\n",
    "\n",
    "  * The percentage of votes each candidate won\n",
    "\n",
    "  * The total number of votes each candidate won\n",
    "\n",
    "  * The winner of the election based on popular vote.\n",
    "\n",
    "* As an example, your analysis should look similar to the one below:\n",
    "\n",
    "  ```text\n",
    "  Election Results\n",
    "  -------------------------\n",
    "  Total Votes: 3521001\n",
    "  -------------------------\n",
    "  Khan: 63.000% (2218231)\n",
    "  Correy: 20.000% (704200)\n",
    "  Li: 14.000% (492940)\n",
    "  O'Tooley: 3.000% (105630)\n",
    "  -------------------------\n",
    "  Winner: Khan\n",
    "  -------------------------\n",
    "  ```\n"
   ]
  },
  {
   "cell_type": "markdown",
   "metadata": {},
   "source": [
    "## Read in the budget csv file and explore the dataset "
   ]
  },
  {
   "cell_type": "code",
   "execution_count": 18,
   "metadata": {},
   "outputs": [],
   "source": [
    "# importing the modules necessary to read in files\n",
    "import os\n",
    "import csv \n",
    "\n",
    "budget_file = os.path.join('Resources', 'election_data.csv')\n",
    "\n",
    "# initializing empty list to put in the separate list based on column headers\n",
    "voter= []\n",
    "county = []\n",
    "candidate = []\n",
    "election = []\n",
    "#import the file path as a csvfile and delimit by commas \n",
    "with open(budget_file, newline = '') as csvfile:\n",
    "    csvreader = csv.reader(csvfile, delimiter = \",\")\n",
    "#     for row in csvreader:\n",
    "#         election.append(row)\n",
    "    \n",
    "# print(election[0:5])    \n",
    "    \n",
    "    for row in csvreader:\n",
    "        voter.append(row[0])\n",
    "        county.append(row[1])\n",
    "        candidate.append(row[2])\n",
    "    # remove the headers from lists, \n",
    "    voter = voter[1:]\n",
    "    county = county[1:]\n",
    "    candidate = candidate[1:]\n",
    "\n"
   ]
  },
  {
   "cell_type": "markdown",
   "metadata": {},
   "source": [
    "## Task 1: The total number of votes cast"
   ]
  },
  {
   "cell_type": "code",
   "execution_count": 19,
   "metadata": {},
   "outputs": [
    {
     "name": "stdout",
     "output_type": "stream",
     "text": [
      "3521001\n"
     ]
    }
   ],
   "source": [
    "total_votes = len(voter)\n",
    "print(total_votes)"
   ]
  },
  {
   "cell_type": "markdown",
   "metadata": {},
   "source": [
    "## Task 2: A complete list of candidates who received votes"
   ]
  },
  {
   "cell_type": "code",
   "execution_count": 45,
   "metadata": {},
   "outputs": [
    {
     "name": "stdout",
     "output_type": "stream",
     "text": [
      "['Khan', \"O'Tooley\", 'Correy', 'Li']\n"
     ]
    }
   ],
   "source": [
    "# looked up how to extract unique values from list, set was most recommended \n",
    "candidate = set(candidate)\n",
    "candidate =list(candidate)\n",
    "print(candidate)"
   ]
  },
  {
   "cell_type": "markdown",
   "metadata": {},
   "source": [
    "## Task 3 & 4: The total number and the percentage of votes each candidate won"
   ]
  },
  {
   "cell_type": "code",
   "execution_count": 44,
   "metadata": {},
   "outputs": [
    {
     "name": "stdout",
     "output_type": "stream",
     "text": [
      "492940\n"
     ]
    }
   ],
   "source": [
    "#finding the total number each candidate won by looping through if statement and initializing counts \n",
    "\n",
    "Khan = 0\n",
    "OTooley = 0\n",
    "Correy = 0\n",
    "Li =  0\n",
    "for i in candidate:\n",
    "    if i == \"Khan\":\n",
    "        Khan += 1\n",
    "    elif i == \"O'Tooley\":\n",
    "        OTooley += 1\n",
    "    elif i == \"Correy\":\n",
    "        Correy += 1\n",
    "    else:\n",
    "        Li += 1\n",
    "\n",
    "#checking accuracy         \n",
    "print(Li)    "
   ]
  },
  {
   "cell_type": "code",
   "execution_count": 43,
   "metadata": {},
   "outputs": [
    {
     "name": "stdout",
     "output_type": "stream",
     "text": [
      "63.0\n",
      "14.0\n"
     ]
    }
   ],
   "source": [
    "# finding the percentage of each candidate by dividng the total number by \"total_votes\"\n",
    "\n",
    "Khan_pct = round((Khan/total_votes)*100)\n",
    "OTooley_pct = round((OTooley/total_votes)*100)\n",
    "Correy_pct = round((Correy/total_votes)*100)\n",
    "Li_pct = round((Li/total_votes)*100)\n",
    "\n",
    "#checking accuracy\n",
    "print(Khan_pct)\n"
   ]
  },
  {
   "cell_type": "markdown",
   "metadata": {},
   "source": [
    "## Task 5: The winner of the election based on popular vote."
   ]
  },
  {
   "cell_type": "code",
   "execution_count": null,
   "metadata": {},
   "outputs": [],
   "source": [
    "\n"
   ]
  },
  {
   "cell_type": "markdown",
   "metadata": {},
   "source": [
    "## Task 6: Print the Analysis Summary to the terminal and export to a text file "
   ]
  },
  {
   "cell_type": "code",
   "execution_count": 46,
   "metadata": {},
   "outputs": [
    {
     "name": "stdout",
     "output_type": "stream",
     "text": [
      "Election Results \n",
      "--------------------\n",
      "Total Votes: 3521001 \n",
      "--------------------\n",
      " Khan: 63.000% (2218231) \n",
      " O'Tooley: 3.000% (105630) \n",
      " Correy:20.000% (704200)  \n",
      " Li: 14.000% (492940) \n",
      "--------------------\n",
      " Winner: \n",
      "--------------------\n",
      "\n"
     ]
    }
   ],
   "source": [
    "print_stmt = (f\"Election Results \\n--------------------\\nTotal Votes: {total_votes} \\n--------------------\\n {candidate[0]}: {Khan_pct}00% ({Khan}) \\n {candidate[1]}: {OTooley_pct}00% ({OTooley}) \\n {candidate[2]}:{Correy_pct}00% ({Correy})  \\n {candidate[3]}: {Li_pct}00% ({Li}) \\n--------------------\\n Winner: \\n--------------------\\n\")\n",
    "print(print_stmt)\n",
    "\n",
    "#   ```text\n",
    "#   Election Results\n",
    "#   -------------------------\n",
    "#   Total Votes: 3521001\n",
    "#   -------------------------\n",
    "#   Khan: 63.000% (2218231)\n",
    "#   Correy: 20.000% (704200)\n",
    "#   Li: 14.000% (492940)\n",
    "#   O'Tooley: 3.000% (105630)\n",
    "#   -------------------------\n",
    "#   Winner: Khan\n",
    "#   -------------------------\n",
    "\n",
    "# Specify the file to write to\n",
    "output_path = os.path.join(\"PyPollSummary_Farah.csv\")\n",
    "\n",
    "# Open the file using \"write\" mode. Specify the variable to hold the contents\n",
    "with open(output_path, 'w', newline='') as csvfile: # specify \"w\" for write, default is read\n",
    "\n",
    "    # Initialize csv.writer\n",
    "    csvwriter = csv.writer(csvfile, delimiter=',')\n",
    "    for line in print_stmt:\n",
    "        csvfile.write(line)\n"
   ]
  },
  {
   "cell_type": "code",
   "execution_count": null,
   "metadata": {},
   "outputs": [],
   "source": []
  }
 ],
 "metadata": {
  "kernelspec": {
   "display_name": "Python 3",
   "language": "python",
   "name": "python3"
  },
  "language_info": {
   "codemirror_mode": {
    "name": "ipython",
    "version": 3
   },
   "file_extension": ".py",
   "mimetype": "text/x-python",
   "name": "python",
   "nbconvert_exporter": "python",
   "pygments_lexer": "ipython3",
   "version": "3.7.2"
  }
 },
 "nbformat": 4,
 "nbformat_minor": 2
}
