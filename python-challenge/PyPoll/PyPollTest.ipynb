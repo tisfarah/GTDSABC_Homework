{
 "cells": [
  {
   "cell_type": "markdown",
   "metadata": {},
   "source": [
    "## Instructions\n",
    "\n",
    "Your task is to create a Python script that analyzes the votes and calculates each of the following:\n",
    "\n",
    "  * The total number of votes cast\n",
    "\n",
    "  * A complete list of candidates who received votes\n",
    "\n",
    "  * The percentage of votes each candidate won\n",
    "\n",
    "  * The total number of votes each candidate won\n",
    "\n",
    "  * The winner of the election based on popular vote.\n",
    "\n",
    "* As an example, your analysis should look similar to the one below:\n",
    "\n",
    "  ```text\n",
    "  Election Results\n",
    "  -------------------------\n",
    "  Total Votes: 3521001\n",
    "  -------------------------\n",
    "  Khan: 63.000% (2218231)\n",
    "  Correy: 20.000% (704200)\n",
    "  Li: 14.000% (492940)\n",
    "  O'Tooley: 3.000% (105630)\n",
    "  -------------------------\n",
    "  Winner: Khan\n",
    "  -------------------------\n",
    "  ```\n"
   ]
  },
  {
   "cell_type": "markdown",
   "metadata": {},
   "source": [
    "## Read in the budget csv file and explore the dataset "
   ]
  },
  {
   "cell_type": "code",
   "execution_count": 38,
   "metadata": {},
   "outputs": [
    {
     "data": {
      "text/plain": [
       "{'Khan': 2218231, 'Correy': 704200, 'Li': 492940, \"O'Tooley\": 105630}"
      ]
     },
     "execution_count": 38,
     "metadata": {},
     "output_type": "execute_result"
    }
   ],
   "source": [
    "# importing the modules necessary to read in files\n",
    "import os\n",
    "import csv \n",
    "\n",
    "election_file = os.path.join('Resources', 'election_data.csv')\n",
    "\n",
    "# initializing empty list to put in the separate list based on column headers\n",
    "\n",
    "election = {} \n",
    "\n",
    "#import the file path as a csvfile and delimit by commas \n",
    "with open(election_file, ) as csv_file:\n",
    "    csvreader = csv.DictReader(csv_file, delimiter = \",\") # using the DictReader can reference using header name \n",
    "    for line in csvreader:\n",
    "        if line[\"Candidate\"] in election: # is candidate in dictionary\n",
    "            election[line[\"Candidate\"]] = election[line[\"Candidate\"]] + 1\n",
    "        else:\n",
    "            election[line[\"Candidate\"]] = 1\n",
    "        print()\n",
    "        \n",
    "#print(line[\"Candidate\"]) This prints out the list of candidates from column 3 \n",
    "   \n",
    "\n",
    "#test if the candidate exists for debugging \n",
    "\n",
    "        \n",
    "#     for row in csvreader:\n",
    "#         voter.append(row[0])\n",
    "#         county.append(row[1])\n",
    "#         candidate.append(row[2])\n",
    "#     # remove the headers from lists, \n",
    "#     voter = voter[1:]\n",
    "#     county = county[1:]\n",
    "#     candidate = candidate[1:]\n",
    "\n",
    "#     for row in csvreader: \n",
    "#         if row[0] == \"Khan\":\n",
    "#             case = {\"Khan\": row[1]}\n",
    "#             filelist.append(case)\n",
    "#         elif row[0] == \"Li\":\n",
    "#             case = {\"Li\": row[1]}\n",
    "#             filelist.append(case)\n",
    "#         elif row[0] == \"Correy\":\n",
    "#             case = {\"Correy\": row[1]}\n",
    "#             filelist.append(case)\n",
    "#         elif row[0] == \"O'Tooley\":\n",
    "#             case = {\"O'Tooley\": row[1]}\n",
    "#             filelist.append(case)\n"
   ]
  },
  {
   "cell_type": "markdown",
   "metadata": {},
   "source": [
    "## Task 1: The total number of votes cast"
   ]
  },
  {
   "cell_type": "code",
   "execution_count": 3,
   "metadata": {},
   "outputs": [
    {
     "name": "stdout",
     "output_type": "stream",
     "text": [
      "3521001\n"
     ]
    }
   ],
   "source": [
    "total_votes = len(voter)\n",
    "print(total_votes)"
   ]
  },
  {
   "cell_type": "markdown",
   "metadata": {},
   "source": [
    "## Task 2: A complete list of candidates who received votes"
   ]
  },
  {
   "cell_type": "code",
   "execution_count": 31,
   "metadata": {},
   "outputs": [
    {
     "name": "stderr",
     "output_type": "stream",
     "text": [
      "IOPub data rate exceeded.\n",
      "The notebook server will temporarily stop sending output\n",
      "to the client in order to avoid crashing it.\n",
      "To change this limit, set the config variable\n",
      "`--NotebookApp.iopub_data_rate_limit`.\n",
      "\n",
      "Current values:\n",
      "NotebookApp.iopub_data_rate_limit=1000000.0 (bytes/sec)\n",
      "NotebookApp.rate_limit_window=3.0 (secs)\n",
      "\n"
     ]
    }
   ],
   "source": [
    "# looked up how to extract unique values from list, set was most recommended \n",
    "candidate2 = set(candidate)\n",
    "candidate2 =list(candidate2)\n",
    "candidate2"
   ]
  },
  {
   "cell_type": "markdown",
   "metadata": {},
   "source": [
    "## Task 3 & 4: The total number and the percentage of votes each candidate won"
   ]
  },
  {
   "cell_type": "code",
   "execution_count": 7,
   "metadata": {},
   "outputs": [
    {
     "name": "stdout",
     "output_type": "stream",
     "text": [
      "492940\n",
      "2218231\n",
      "105630\n",
      "704200\n"
     ]
    }
   ],
   "source": [
    "#finding the total number each candidate won by looping through if statement and\n",
    "#initializing counts \n",
    "\n",
    "Khan = 0\n",
    "OTooley = 0\n",
    "Correy = 0\n",
    "Li =  0\n",
    "candidate_name =[]\n",
    "for i in candidate:\n",
    "    if i == \"Khan\":\n",
    "        Khan += 1\n",
    "    elif i == \"O'Tooley\":\n",
    "        OTooley += 1\n",
    "    elif i == \"Correy\":\n",
    "        Correy += 1\n",
    "    else:\n",
    "        Li += 1\n",
    "\n",
    "#checking accuracy         \n",
    "print(Li)\n",
    "print(Khan)\n",
    "print(OTooley)\n",
    "print(Correy)"
   ]
  },
  {
   "cell_type": "code",
   "execution_count": 8,
   "metadata": {},
   "outputs": [
    {
     "name": "stdout",
     "output_type": "stream",
     "text": [
      "63\n"
     ]
    },
    {
     "data": {
      "text/plain": [
       "int"
      ]
     },
     "execution_count": 8,
     "metadata": {},
     "output_type": "execute_result"
    }
   ],
   "source": [
    "# finding the percentage of each candidate by dividng the total number by \"total_votes\"\n",
    "\n",
    "Khan_pct = round((Khan/total_votes)*100)\n",
    "OTooley_pct = round((OTooley/total_votes)*100)\n",
    "Correy_pct = round((Correy/total_votes)*100)\n",
    "Li_pct = round((Li/total_votes)*100)\n",
    "round\n",
    "#checking accuracy\n",
    "print(Khan_pct)\n",
    "type(Khan_pct)"
   ]
  },
  {
   "cell_type": "markdown",
   "metadata": {},
   "source": [
    "## Task 5: The winner of the election based on popular vote."
   ]
  },
  {
   "cell_type": "code",
   "execution_count": 9,
   "metadata": {},
   "outputs": [
    {
     "data": {
      "text/plain": [
       "2218231"
      ]
     },
     "execution_count": 9,
     "metadata": {},
     "output_type": "execute_result"
    }
   ],
   "source": [
    "all_candidates = [Khan, OTooley, Correy, Li]\n",
    "max(all_candidates)"
   ]
  },
  {
   "cell_type": "code",
   "execution_count": 10,
   "metadata": {},
   "outputs": [],
   "source": [
    "## change to be able to sort by max percentage, zip the candidate, total votes, and percentage lists togther\n",
    "\n",
    "#https://stackoverflow.com/questions/3766633/how-to-sort-with-lambda-in-python \n",
    "https://stackoverflow.com/questions/52141785/sort-dict-by-values-in-python-3-6\n",
    "a = {k: v for k, v in sorted(a.items(), key=lambda x: x[1])}\n",
    "\n",
    "## look for stackoverflow functions on sort "
   ]
  },
  {
   "cell_type": "markdown",
   "metadata": {},
   "source": [
    "## Task 6: Print the Analysis Summary to the terminal and export to a text file "
   ]
  },
  {
   "cell_type": "code",
   "execution_count": 11,
   "metadata": {},
   "outputs": [
    {
     "name": "stdout",
     "output_type": "stream",
     "text": [
      "Election Results \n",
      "--------------------\n",
      "Total Votes: 3521001 \n",
      "--------------------\n",
      " Khan: 63.00% (2218231) \n",
      " Correy: 3.00% (105630) \n",
      " Khan:20.00% (704200)  \n",
      " Li: 14.00% (492940) \n",
      "--------------------\n",
      " Winner: \n",
      "--------------------\n",
      "\n"
     ]
    }
   ],
   "source": [
    "print_stmt = (f\"Election Results \\n--------------------\\nTotal Votes: {total_votes} \\n--------------------\\n {candidate2[2]}: {Khan_pct}.00% ({Khan}) \\n {candidate2[0]}: {OTooley_pct}.00% ({OTooley}) \\n {candidate2[2]}:{Correy_pct}.00% ({Correy})  \\n {candidate2[1]}: {Li_pct}.00% ({Li}) \\n--------------------\\n Winner: \\n--------------------\\n\")\n",
    "print(print_stmt)\n",
    "\n",
    "\n",
    "\n",
    "#   ```text\n",
    "#   Election Results\n",
    "#   -------------------------\n",
    "#   Total Votes: 3521001\n",
    "#   -------------------------\n",
    "#   Khan: 63.000% (2218231)\n",
    "#   Correy: 20.000% (704200)\n",
    "#   Li: 14.000% (492940)\n",
    "#   O'Tooley: 3.000% (105630)\n",
    "#   -------------------------\n",
    "#   Winner: Khan\n",
    "#   -------------------------\n",
    "\n",
    "# Specify the file to write to\n",
    "output_path = os.path.join(\"PyPollSummary_Farah.csv\")\n",
    "\n",
    "# Open the file using \"write\" mode. Specify the variable to hold the contents\n",
    "with open(output_path, 'w', newline='') as csvfile: # specify \"w\" for write, default is read\n",
    "\n",
    "    # Initialize csv.writer\n",
    "    csvwriter = csv.writer(csvfile, delimiter=',')\n",
    "    for line in print_stmt:\n",
    "        csvfile.write(line)\n"
   ]
  },
  {
   "cell_type": "code",
   "execution_count": null,
   "metadata": {},
   "outputs": [],
   "source": []
  }
 ],
 "metadata": {
  "kernelspec": {
   "display_name": "Python 3",
   "language": "python",
   "name": "python3"
  },
  "language_info": {
   "codemirror_mode": {
    "name": "ipython",
    "version": 3
   },
   "file_extension": ".py",
   "mimetype": "text/x-python",
   "name": "python",
   "nbconvert_exporter": "python",
   "pygments_lexer": "ipython3",
   "version": "3.7.2"
  }
 },
 "nbformat": 4,
 "nbformat_minor": 2
}
